{
 "cells": [
  {
   "cell_type": "markdown",
   "metadata": {},
   "source": [
    "# Conflict in Brazil\n",
    "Jessica Ertel\n",
    "\n",
    "## Preliminary Wrangling\n",
    "\n",
    "> This dataset was aquired via the [Humanitarian Data Exchange (HDX)](https://data.humdata.org/) and shared by the [Armed Conflict Location & Event Data Project (ACLED)](http://www.acleddata.com/). It contains information on the type, agents, exact location, date, and other characteristics of political violence events, demonstrations and select politically relevant non-violent events.\n",
    "\n",
    "\n",
    "- What do you notice about each visualization?\n",
    "- What questions do you have about the data?\n",
    "- What relationships do you notice?\n",
    "- What do you think is the main takeaway from the slide deck?\n",
    "- Is there anything that you don’t understand from the plots?\n",
    "\n",
    "- Do events exhibit any seasonality?\n",
    "try a facetgrid to look at the number of fatalities per event or actor"
   ]
  },
  {
   "cell_type": "markdown",
   "metadata": {},
   "source": [
    "Interaction codes:\n",
    "All actors fall into 1 of 8 categories:\n",
    "- Government or mutinous force = 1\n",
    "- Rebel force =2\n",
    "- Political militia= 3\n",
    "- Ethnic militia = 4\n",
    "- Rioters= 5\n",
    "- Protesters = 6\n",
    "- Civilians = 7\n",
    "- Outside/external force (e.g. UN) =8"
   ]
  },
  {
   "cell_type": "code",
   "execution_count": 31,
   "metadata": {},
   "outputs": [],
   "source": [
    "# import standard data manipulation libraries\n",
    "import numpy as np\n",
    "import pandas as pd\n",
    "import matplotlib.pyplot as plt\n",
    "import seaborn as sns\n",
    "\n",
    "%matplotlib inline"
   ]
  },
  {
   "cell_type": "code",
   "execution_count": 17,
   "metadata": {},
   "outputs": [
    {
     "data": {
      "text/plain": [
       "(14223, 31)"
      ]
     },
     "execution_count": 17,
     "metadata": {},
     "output_type": "execute_result"
    }
   ],
   "source": [
    "# import the data and check shape\n",
    "data = pd.read_csv('conflict_data_bra.csv')\n",
    "data.shape"
   ]
  },
  {
   "cell_type": "code",
   "execution_count": 18,
   "metadata": {
    "scrolled": true
   },
   "outputs": [
    {
     "data": {
      "text/html": [
       "<div>\n",
       "<style scoped>\n",
       "    .dataframe tbody tr th:only-of-type {\n",
       "        vertical-align: middle;\n",
       "    }\n",
       "\n",
       "    .dataframe tbody tr th {\n",
       "        vertical-align: top;\n",
       "    }\n",
       "\n",
       "    .dataframe thead th {\n",
       "        text-align: right;\n",
       "    }\n",
       "</style>\n",
       "<table border=\"1\" class=\"dataframe\">\n",
       "  <thead>\n",
       "    <tr style=\"text-align: right;\">\n",
       "      <th></th>\n",
       "      <th>data_id</th>\n",
       "      <th>iso</th>\n",
       "      <th>event_id_cnty</th>\n",
       "      <th>event_id_no_cnty</th>\n",
       "      <th>event_date</th>\n",
       "      <th>year</th>\n",
       "      <th>time_precision</th>\n",
       "      <th>event_type</th>\n",
       "      <th>sub_event_type</th>\n",
       "      <th>actor1</th>\n",
       "      <th>...</th>\n",
       "      <th>location</th>\n",
       "      <th>latitude</th>\n",
       "      <th>longitude</th>\n",
       "      <th>geo_precision</th>\n",
       "      <th>source</th>\n",
       "      <th>source_scale</th>\n",
       "      <th>notes</th>\n",
       "      <th>fatalities</th>\n",
       "      <th>timestamp</th>\n",
       "      <th>iso3</th>\n",
       "    </tr>\n",
       "  </thead>\n",
       "  <tbody>\n",
       "    <tr>\n",
       "      <th>1</th>\n",
       "      <td>7077135.0</td>\n",
       "      <td>76.0</td>\n",
       "      <td>BRA14213</td>\n",
       "      <td>14213.0</td>\n",
       "      <td>2020-05-02</td>\n",
       "      <td>2020</td>\n",
       "      <td>1.0</td>\n",
       "      <td>Battles</td>\n",
       "      <td>Armed clash</td>\n",
       "      <td>Unidentified Gang and/or Police Militia</td>\n",
       "      <td>...</td>\n",
       "      <td>Governador Valadares</td>\n",
       "      <td>-18.8564</td>\n",
       "      <td>-41.9547</td>\n",
       "      <td>1.0</td>\n",
       "      <td>G1</td>\n",
       "      <td>National</td>\n",
       "      <td>On 2nd May 2020, in Governador Valadares, Mina...</td>\n",
       "      <td>0</td>\n",
       "      <td>1.588632e+09</td>\n",
       "      <td>BRA</td>\n",
       "    </tr>\n",
       "    <tr>\n",
       "      <th>2</th>\n",
       "      <td>7077139.0</td>\n",
       "      <td>76.0</td>\n",
       "      <td>BRA14217</td>\n",
       "      <td>14217.0</td>\n",
       "      <td>2020-05-02</td>\n",
       "      <td>2020</td>\n",
       "      <td>1.0</td>\n",
       "      <td>Strategic developments</td>\n",
       "      <td>Looting/property destruction</td>\n",
       "      <td>Police Forces of Brazil (2019-) Federal Police</td>\n",
       "      <td>...</td>\n",
       "      <td>Montes Claros</td>\n",
       "      <td>-16.7287</td>\n",
       "      <td>-43.8641</td>\n",
       "      <td>1.0</td>\n",
       "      <td>G1</td>\n",
       "      <td>National</td>\n",
       "      <td>On 2nd May 2020, in Montes Claros, Minas Gerai...</td>\n",
       "      <td>0</td>\n",
       "      <td>1.588632e+09</td>\n",
       "      <td>BRA</td>\n",
       "    </tr>\n",
       "    <tr>\n",
       "      <th>3</th>\n",
       "      <td>7077140.0</td>\n",
       "      <td>76.0</td>\n",
       "      <td>BRA14218</td>\n",
       "      <td>14218.0</td>\n",
       "      <td>2020-05-02</td>\n",
       "      <td>2020</td>\n",
       "      <td>1.0</td>\n",
       "      <td>Violence against civilians</td>\n",
       "      <td>Attack</td>\n",
       "      <td>Unidentified Gang and/or Police Militia</td>\n",
       "      <td>...</td>\n",
       "      <td>Mossoro</td>\n",
       "      <td>-5.1842</td>\n",
       "      <td>-37.3495</td>\n",
       "      <td>1.0</td>\n",
       "      <td>G1</td>\n",
       "      <td>National</td>\n",
       "      <td>On 2nd May 2020, in Mossoro, Rio Grande do Nor...</td>\n",
       "      <td>1</td>\n",
       "      <td>1.588632e+09</td>\n",
       "      <td>BRA</td>\n",
       "    </tr>\n",
       "    <tr>\n",
       "      <th>4</th>\n",
       "      <td>7077146.0</td>\n",
       "      <td>76.0</td>\n",
       "      <td>BRA14224</td>\n",
       "      <td>14224.0</td>\n",
       "      <td>2020-05-02</td>\n",
       "      <td>2020</td>\n",
       "      <td>1.0</td>\n",
       "      <td>Riots</td>\n",
       "      <td>Violent demonstration</td>\n",
       "      <td>Rioters (Brazil)</td>\n",
       "      <td>...</td>\n",
       "      <td>Vila Velha</td>\n",
       "      <td>-20.3467</td>\n",
       "      <td>-40.3019</td>\n",
       "      <td>1.0</td>\n",
       "      <td>G1</td>\n",
       "      <td>National</td>\n",
       "      <td>On 2nd May 2020, in Vila Velha, Espirito Santo...</td>\n",
       "      <td>0</td>\n",
       "      <td>1.588632e+09</td>\n",
       "      <td>BRA</td>\n",
       "    </tr>\n",
       "    <tr>\n",
       "      <th>5</th>\n",
       "      <td>7077152.0</td>\n",
       "      <td>76.0</td>\n",
       "      <td>BRA14214</td>\n",
       "      <td>14214.0</td>\n",
       "      <td>2020-05-02</td>\n",
       "      <td>2020</td>\n",
       "      <td>1.0</td>\n",
       "      <td>Protests</td>\n",
       "      <td>Peaceful protest</td>\n",
       "      <td>Protesters (Brazil)</td>\n",
       "      <td>...</td>\n",
       "      <td>Lauro de Freitas</td>\n",
       "      <td>-12.8944</td>\n",
       "      <td>-38.3272</td>\n",
       "      <td>1.0</td>\n",
       "      <td>G1</td>\n",
       "      <td>National</td>\n",
       "      <td>On 2nd May 2020, in Lauro de Freitas, Bahia, p...</td>\n",
       "      <td>0</td>\n",
       "      <td>1.588632e+09</td>\n",
       "      <td>BRA</td>\n",
       "    </tr>\n",
       "  </tbody>\n",
       "</table>\n",
       "<p>5 rows × 31 columns</p>\n",
       "</div>"
      ],
      "text/plain": [
       "     data_id   iso event_id_cnty  event_id_no_cnty  event_date  year  \\\n",
       "1  7077135.0  76.0      BRA14213           14213.0  2020-05-02  2020   \n",
       "2  7077139.0  76.0      BRA14217           14217.0  2020-05-02  2020   \n",
       "3  7077140.0  76.0      BRA14218           14218.0  2020-05-02  2020   \n",
       "4  7077146.0  76.0      BRA14224           14224.0  2020-05-02  2020   \n",
       "5  7077152.0  76.0      BRA14214           14214.0  2020-05-02  2020   \n",
       "\n",
       "   time_precision                  event_type                sub_event_type  \\\n",
       "1             1.0                     Battles                   Armed clash   \n",
       "2             1.0      Strategic developments  Looting/property destruction   \n",
       "3             1.0  Violence against civilians                        Attack   \n",
       "4             1.0                       Riots         Violent demonstration   \n",
       "5             1.0                    Protests              Peaceful protest   \n",
       "\n",
       "                                           actor1  ...              location  \\\n",
       "1         Unidentified Gang and/or Police Militia  ...  Governador Valadares   \n",
       "2  Police Forces of Brazil (2019-) Federal Police  ...         Montes Claros   \n",
       "3         Unidentified Gang and/or Police Militia  ...               Mossoro   \n",
       "4                                Rioters (Brazil)  ...            Vila Velha   \n",
       "5                             Protesters (Brazil)  ...      Lauro de Freitas   \n",
       "\n",
       "   latitude longitude geo_precision  source  source_scale  \\\n",
       "1  -18.8564  -41.9547           1.0      G1      National   \n",
       "2  -16.7287  -43.8641           1.0      G1      National   \n",
       "3   -5.1842  -37.3495           1.0      G1      National   \n",
       "4  -20.3467  -40.3019           1.0      G1      National   \n",
       "5  -12.8944  -38.3272           1.0      G1      National   \n",
       "\n",
       "                                               notes fatalities     timestamp  \\\n",
       "1  On 2nd May 2020, in Governador Valadares, Mina...          0  1.588632e+09   \n",
       "2  On 2nd May 2020, in Montes Claros, Minas Gerai...          0  1.588632e+09   \n",
       "3  On 2nd May 2020, in Mossoro, Rio Grande do Nor...          1  1.588632e+09   \n",
       "4  On 2nd May 2020, in Vila Velha, Espirito Santo...          0  1.588632e+09   \n",
       "5  On 2nd May 2020, in Lauro de Freitas, Bahia, p...          0  1.588632e+09   \n",
       "\n",
       "  iso3  \n",
       "1  BRA  \n",
       "2  BRA  \n",
       "3  BRA  \n",
       "4  BRA  \n",
       "5  BRA  \n",
       "\n",
       "[5 rows x 31 columns]"
      ]
     },
     "execution_count": 18,
     "metadata": {},
     "output_type": "execute_result"
    }
   ],
   "source": [
    "# drop the first row, which contains NaNs and title explanations\n",
    "data.drop(index=0, inplace=True)\n",
    "data.head()"
   ]
  },
  {
   "cell_type": "code",
   "execution_count": 19,
   "metadata": {},
   "outputs": [
    {
     "name": "stdout",
     "output_type": "stream",
     "text": [
      "<class 'pandas.core.frame.DataFrame'>\n",
      "Int64Index: 14222 entries, 1 to 14222\n",
      "Data columns (total 31 columns):\n",
      " #   Column            Non-Null Count  Dtype  \n",
      "---  ------            --------------  -----  \n",
      " 0   data_id           14222 non-null  float64\n",
      " 1   iso               14222 non-null  float64\n",
      " 2   event_id_cnty     14222 non-null  object \n",
      " 3   event_id_no_cnty  14222 non-null  float64\n",
      " 4   event_date        14222 non-null  object \n",
      " 5   year              14222 non-null  object \n",
      " 6   time_precision    14222 non-null  float64\n",
      " 7   event_type        14222 non-null  object \n",
      " 8   sub_event_type    14222 non-null  object \n",
      " 9   actor1            14222 non-null  object \n",
      " 10  assoc_actor_1     3199 non-null   object \n",
      " 11  inter1            14222 non-null  float64\n",
      " 12  actor2            9696 non-null   object \n",
      " 13  assoc_actor_2     927 non-null    object \n",
      " 14  inter2            14222 non-null  float64\n",
      " 15  interaction       14222 non-null  float64\n",
      " 16  region            14222 non-null  object \n",
      " 17  country           14222 non-null  object \n",
      " 18  admin1            14222 non-null  object \n",
      " 19  admin2            14222 non-null  object \n",
      " 20  admin3            0 non-null      object \n",
      " 21  location          14222 non-null  object \n",
      " 22  latitude          14222 non-null  object \n",
      " 23  longitude         14222 non-null  object \n",
      " 24  geo_precision     14222 non-null  float64\n",
      " 25  source            14222 non-null  object \n",
      " 26  source_scale      14222 non-null  object \n",
      " 27  notes             14222 non-null  object \n",
      " 28  fatalities        14222 non-null  object \n",
      " 29  timestamp         14222 non-null  float64\n",
      " 30  iso3              14222 non-null  object \n",
      "dtypes: float64(9), object(22)\n",
      "memory usage: 3.5+ MB\n"
     ]
    }
   ],
   "source": [
    "data.info()"
   ]
  },
  {
   "cell_type": "code",
   "execution_count": 20,
   "metadata": {},
   "outputs": [],
   "source": [
    "# drop columns that contain duplicate information \n",
    "# Region, country, iso and iso3 are all the same \n",
    "# admin3 is all null values\n",
    "# year column not needed since we have date\n",
    "\n",
    "data.drop(columns=['event_id_cnty', \n",
    "                   'event_id_no_cnty', \n",
    "                   'region', \n",
    "                   'country', \n",
    "                   'iso3', \n",
    "                   'iso',\n",
    "                   'admin3',\n",
    "                   'year'], inplace=True)"
   ]
  },
  {
   "cell_type": "code",
   "execution_count": 22,
   "metadata": {},
   "outputs": [],
   "source": [
    "# update column names for clarity\n",
    "data.rename(columns={'admin1':'state',\n",
    "                     'admin2':'municipality'}, inplace=True)"
   ]
  },
  {
   "cell_type": "code",
   "execution_count": 29,
   "metadata": {},
   "outputs": [
    {
     "data": {
      "text/plain": [
       "2363"
      ]
     },
     "execution_count": 29,
     "metadata": {},
     "output_type": "execute_result"
    }
   ],
   "source": [
    "(data['municipality'] != data['location']).sum()"
   ]
  },
  {
   "cell_type": "code",
   "execution_count": 39,
   "metadata": {},
   "outputs": [],
   "source": [
    "# update the data types for specific columns\n",
    "\n",
    "# fatalities should be an integer\n",
    "data['fatalities'] = data['fatalities'].astype(int)\n",
    "\n",
    "# event data should be a datetime object"
   ]
  },
  {
   "cell_type": "code",
   "execution_count": 38,
   "metadata": {},
   "outputs": [
    {
     "data": {
      "text/plain": [
       "dtype('O')"
      ]
     },
     "execution_count": 38,
     "metadata": {},
     "output_type": "execute_result"
    }
   ],
   "source": [
    "data['fatalities'].dtype"
   ]
  },
  {
   "cell_type": "code",
   "execution_count": 41,
   "metadata": {},
   "outputs": [
    {
     "name": "stdout",
     "output_type": "stream",
     "text": [
      "<class 'pandas.core.frame.DataFrame'>\n",
      "Int64Index: 14222 entries, 1 to 14222\n",
      "Data columns (total 23 columns):\n",
      " #   Column          Non-Null Count  Dtype  \n",
      "---  ------          --------------  -----  \n",
      " 0   data_id         14222 non-null  float64\n",
      " 1   event_date      14222 non-null  object \n",
      " 2   time_precision  14222 non-null  float64\n",
      " 3   event_type      14222 non-null  object \n",
      " 4   sub_event_type  14222 non-null  object \n",
      " 5   actor1          14222 non-null  object \n",
      " 6   assoc_actor_1   3199 non-null   object \n",
      " 7   inter1          14222 non-null  float64\n",
      " 8   actor2          9696 non-null   object \n",
      " 9   assoc_actor_2   927 non-null    object \n",
      " 10  inter2          14222 non-null  float64\n",
      " 11  interaction     14222 non-null  float64\n",
      " 12  state           14222 non-null  object \n",
      " 13  municipality    14222 non-null  object \n",
      " 14  location        14222 non-null  object \n",
      " 15  latitude        14222 non-null  object \n",
      " 16  longitude       14222 non-null  object \n",
      " 17  geo_precision   14222 non-null  float64\n",
      " 18  source          14222 non-null  object \n",
      " 19  source_scale    14222 non-null  object \n",
      " 20  notes           14222 non-null  object \n",
      " 21  fatalities      14222 non-null  int64  \n",
      " 22  timestamp       14222 non-null  float64\n",
      "dtypes: float64(7), int64(1), object(15)\n",
      "memory usage: 3.2+ MB\n"
     ]
    }
   ],
   "source": [
    "data.info()"
   ]
  },
  {
   "cell_type": "code",
   "execution_count": 23,
   "metadata": {
    "scrolled": true
   },
   "outputs": [
    {
     "data": {
      "text/plain": [
       "Index(['data_id', 'event_date', 'time_precision', 'event_type',\n",
       "       'sub_event_type', 'actor1', 'assoc_actor_1', 'inter1', 'actor2',\n",
       "       'assoc_actor_2', 'inter2', 'interaction', 'state', 'municipality',\n",
       "       'location', 'latitude', 'longitude', 'geo_precision', 'source',\n",
       "       'source_scale', 'notes', 'fatalities', 'timestamp'],\n",
       "      dtype='object')"
      ]
     },
     "execution_count": 23,
     "metadata": {},
     "output_type": "execute_result"
    }
   ],
   "source": [
    "data.columns"
   ]
  },
  {
   "cell_type": "code",
   "execution_count": 24,
   "metadata": {},
   "outputs": [
    {
     "data": {
      "text/plain": [
       "(14222, 23)"
      ]
     },
     "execution_count": 24,
     "metadata": {},
     "output_type": "execute_result"
    }
   ],
   "source": [
    "data.shape"
   ]
  },
  {
   "cell_type": "code",
   "execution_count": 25,
   "metadata": {},
   "outputs": [],
   "source": [
    "data.to_csv('conflict_data_bra_clean.csv')"
   ]
  },
  {
   "cell_type": "markdown",
   "metadata": {},
   "source": [
    "### What is the structure of your dataset?\n",
    "\n",
    "> The dataset has 23 columns and 14,222 rows.\n",
    "\n",
    "### What is/are the main feature(s) of interest in your dataset?\n",
    "\n",
    "> The main features of interest will be the `fatalities`, `location` and `event_type` features.\n",
    "\n",
    "### What features in the dataset do you think will help support your investigation into your feature(s) of interest?\n",
    "\n",
    "> I think features such as `event_date` or `timestamp`, `actor1`, and `sub_event_type` will support my investigation into the nature and location of conflict events in Brazil."
   ]
  },
  {
   "cell_type": "code",
   "execution_count": 61,
   "metadata": {},
   "outputs": [
    {
     "data": {
      "text/html": [
       "<div>\n",
       "<style scoped>\n",
       "    .dataframe tbody tr th:only-of-type {\n",
       "        vertical-align: middle;\n",
       "    }\n",
       "\n",
       "    .dataframe tbody tr th {\n",
       "        vertical-align: top;\n",
       "    }\n",
       "\n",
       "    .dataframe thead th {\n",
       "        text-align: right;\n",
       "    }\n",
       "</style>\n",
       "<table border=\"1\" class=\"dataframe\">\n",
       "  <thead>\n",
       "    <tr style=\"text-align: right;\">\n",
       "      <th></th>\n",
       "      <th>data_id</th>\n",
       "      <th>event_date</th>\n",
       "      <th>time_precision</th>\n",
       "      <th>event_type</th>\n",
       "      <th>sub_event_type</th>\n",
       "      <th>actor1</th>\n",
       "      <th>assoc_actor_1</th>\n",
       "      <th>inter1</th>\n",
       "      <th>actor2</th>\n",
       "      <th>assoc_actor_2</th>\n",
       "      <th>...</th>\n",
       "      <th>municipality</th>\n",
       "      <th>location</th>\n",
       "      <th>latitude</th>\n",
       "      <th>longitude</th>\n",
       "      <th>geo_precision</th>\n",
       "      <th>source</th>\n",
       "      <th>source_scale</th>\n",
       "      <th>notes</th>\n",
       "      <th>fatalities</th>\n",
       "      <th>timestamp</th>\n",
       "    </tr>\n",
       "  </thead>\n",
       "  <tbody>\n",
       "    <tr>\n",
       "      <th>1</th>\n",
       "      <td>7077135.0</td>\n",
       "      <td>2020-05-02</td>\n",
       "      <td>1.0</td>\n",
       "      <td>Battles</td>\n",
       "      <td>Armed clash</td>\n",
       "      <td>Unidentified Gang and/or Police Militia</td>\n",
       "      <td>NaN</td>\n",
       "      <td>3.0</td>\n",
       "      <td>Unidentified Gang (Brazil)</td>\n",
       "      <td>NaN</td>\n",
       "      <td>...</td>\n",
       "      <td>Governador Valadares</td>\n",
       "      <td>Governador Valadares</td>\n",
       "      <td>-18.8564</td>\n",
       "      <td>-41.9547</td>\n",
       "      <td>1.0</td>\n",
       "      <td>G1</td>\n",
       "      <td>National</td>\n",
       "      <td>On 2nd May 2020, in Governador Valadares, Mina...</td>\n",
       "      <td>0</td>\n",
       "      <td>1.588632e+09</td>\n",
       "    </tr>\n",
       "    <tr>\n",
       "      <th>2</th>\n",
       "      <td>7077139.0</td>\n",
       "      <td>2020-05-02</td>\n",
       "      <td>1.0</td>\n",
       "      <td>Strategic developments</td>\n",
       "      <td>Looting/property destruction</td>\n",
       "      <td>Police Forces of Brazil (2019-) Federal Police</td>\n",
       "      <td>NaN</td>\n",
       "      <td>1.0</td>\n",
       "      <td>Unidentified Gang (Brazil)</td>\n",
       "      <td>NaN</td>\n",
       "      <td>...</td>\n",
       "      <td>Montes Claros</td>\n",
       "      <td>Montes Claros</td>\n",
       "      <td>-16.7287</td>\n",
       "      <td>-43.8641</td>\n",
       "      <td>1.0</td>\n",
       "      <td>G1</td>\n",
       "      <td>National</td>\n",
       "      <td>On 2nd May 2020, in Montes Claros, Minas Gerai...</td>\n",
       "      <td>0</td>\n",
       "      <td>1.588632e+09</td>\n",
       "    </tr>\n",
       "    <tr>\n",
       "      <th>3</th>\n",
       "      <td>7077140.0</td>\n",
       "      <td>2020-05-02</td>\n",
       "      <td>1.0</td>\n",
       "      <td>Violence against civilians</td>\n",
       "      <td>Attack</td>\n",
       "      <td>Unidentified Gang and/or Police Militia</td>\n",
       "      <td>NaN</td>\n",
       "      <td>3.0</td>\n",
       "      <td>Civilians (Brazil)</td>\n",
       "      <td>NaN</td>\n",
       "      <td>...</td>\n",
       "      <td>Mossoro</td>\n",
       "      <td>Mossoro</td>\n",
       "      <td>-5.1842</td>\n",
       "      <td>-37.3495</td>\n",
       "      <td>1.0</td>\n",
       "      <td>G1</td>\n",
       "      <td>National</td>\n",
       "      <td>On 2nd May 2020, in Mossoro, Rio Grande do Nor...</td>\n",
       "      <td>1</td>\n",
       "      <td>1.588632e+09</td>\n",
       "    </tr>\n",
       "    <tr>\n",
       "      <th>4</th>\n",
       "      <td>7077146.0</td>\n",
       "      <td>2020-05-02</td>\n",
       "      <td>1.0</td>\n",
       "      <td>Riots</td>\n",
       "      <td>Violent demonstration</td>\n",
       "      <td>Rioters (Brazil)</td>\n",
       "      <td>NaN</td>\n",
       "      <td>5.0</td>\n",
       "      <td>NaN</td>\n",
       "      <td>NaN</td>\n",
       "      <td>...</td>\n",
       "      <td>Vila Velha</td>\n",
       "      <td>Vila Velha</td>\n",
       "      <td>-20.3467</td>\n",
       "      <td>-40.3019</td>\n",
       "      <td>1.0</td>\n",
       "      <td>G1</td>\n",
       "      <td>National</td>\n",
       "      <td>On 2nd May 2020, in Vila Velha, Espirito Santo...</td>\n",
       "      <td>0</td>\n",
       "      <td>1.588632e+09</td>\n",
       "    </tr>\n",
       "    <tr>\n",
       "      <th>5</th>\n",
       "      <td>7077152.0</td>\n",
       "      <td>2020-05-02</td>\n",
       "      <td>1.0</td>\n",
       "      <td>Protests</td>\n",
       "      <td>Peaceful protest</td>\n",
       "      <td>Protesters (Brazil)</td>\n",
       "      <td>NaN</td>\n",
       "      <td>6.0</td>\n",
       "      <td>NaN</td>\n",
       "      <td>NaN</td>\n",
       "      <td>...</td>\n",
       "      <td>Lauro de Freitas</td>\n",
       "      <td>Lauro de Freitas</td>\n",
       "      <td>-12.8944</td>\n",
       "      <td>-38.3272</td>\n",
       "      <td>1.0</td>\n",
       "      <td>G1</td>\n",
       "      <td>National</td>\n",
       "      <td>On 2nd May 2020, in Lauro de Freitas, Bahia, p...</td>\n",
       "      <td>0</td>\n",
       "      <td>1.588632e+09</td>\n",
       "    </tr>\n",
       "  </tbody>\n",
       "</table>\n",
       "<p>5 rows × 23 columns</p>\n",
       "</div>"
      ],
      "text/plain": [
       "     data_id  event_date  time_precision                  event_type  \\\n",
       "1  7077135.0  2020-05-02             1.0                     Battles   \n",
       "2  7077139.0  2020-05-02             1.0      Strategic developments   \n",
       "3  7077140.0  2020-05-02             1.0  Violence against civilians   \n",
       "4  7077146.0  2020-05-02             1.0                       Riots   \n",
       "5  7077152.0  2020-05-02             1.0                    Protests   \n",
       "\n",
       "                 sub_event_type  \\\n",
       "1                   Armed clash   \n",
       "2  Looting/property destruction   \n",
       "3                        Attack   \n",
       "4         Violent demonstration   \n",
       "5              Peaceful protest   \n",
       "\n",
       "                                           actor1 assoc_actor_1  inter1  \\\n",
       "1         Unidentified Gang and/or Police Militia           NaN     3.0   \n",
       "2  Police Forces of Brazil (2019-) Federal Police           NaN     1.0   \n",
       "3         Unidentified Gang and/or Police Militia           NaN     3.0   \n",
       "4                                Rioters (Brazil)           NaN     5.0   \n",
       "5                             Protesters (Brazil)           NaN     6.0   \n",
       "\n",
       "                       actor2 assoc_actor_2  ...          municipality  \\\n",
       "1  Unidentified Gang (Brazil)           NaN  ...  Governador Valadares   \n",
       "2  Unidentified Gang (Brazil)           NaN  ...         Montes Claros   \n",
       "3          Civilians (Brazil)           NaN  ...               Mossoro   \n",
       "4                         NaN           NaN  ...            Vila Velha   \n",
       "5                         NaN           NaN  ...      Lauro de Freitas   \n",
       "\n",
       "               location  latitude longitude geo_precision source source_scale  \\\n",
       "1  Governador Valadares  -18.8564  -41.9547           1.0     G1     National   \n",
       "2         Montes Claros  -16.7287  -43.8641           1.0     G1     National   \n",
       "3               Mossoro   -5.1842  -37.3495           1.0     G1     National   \n",
       "4            Vila Velha  -20.3467  -40.3019           1.0     G1     National   \n",
       "5      Lauro de Freitas  -12.8944  -38.3272           1.0     G1     National   \n",
       "\n",
       "                                               notes fatalities     timestamp  \n",
       "1  On 2nd May 2020, in Governador Valadares, Mina...          0  1.588632e+09  \n",
       "2  On 2nd May 2020, in Montes Claros, Minas Gerai...          0  1.588632e+09  \n",
       "3  On 2nd May 2020, in Mossoro, Rio Grande do Nor...          1  1.588632e+09  \n",
       "4  On 2nd May 2020, in Vila Velha, Espirito Santo...          0  1.588632e+09  \n",
       "5  On 2nd May 2020, in Lauro de Freitas, Bahia, p...          0  1.588632e+09  \n",
       "\n",
       "[5 rows x 23 columns]"
      ]
     },
     "execution_count": 61,
     "metadata": {},
     "output_type": "execute_result"
    }
   ],
   "source": [
    "data.head()"
   ]
  },
  {
   "cell_type": "markdown",
   "metadata": {},
   "source": [
    "## Univariate Exploration\n",
    "\n",
    "> In this section, investigate distributions of individual variables. If\n",
    "you see unusual points or outliers, take a deeper look to clean things up\n",
    "and prepare yourself to look at relationships between variables."
   ]
  },
  {
   "cell_type": "markdown",
   "metadata": {},
   "source": [
    "### Fatalities"
   ]
  },
  {
   "cell_type": "code",
   "execution_count": 121,
   "metadata": {},
   "outputs": [
    {
     "data": {
      "image/png": "[encoded data removed]",
      "text/plain": [
       "<Figure size 432x288 with 1 Axes>"
      ]
     },
     "metadata": {
      "needs_background": "light"
     },
     "output_type": "display_data"
    }
   ],
   "source": [
    "base_color = sns.color_palette()[0]\n",
    "\n",
    "fig, ax = plt.subplots(figsize=(6,4))\n",
    "\n",
    "sns.countplot(data['fatalities'], color=base_color, ax=ax)\n",
    "ax.set_title(\"Frequency of Fatalities Per Event\")\n",
    "ax.set_xlabel('Fatality Count')\n",
    "ax.set_ylabel('Event Count');"
   ]
  },
  {
   "cell_type": "code",
   "execution_count": 120,
   "metadata": {
    "scrolled": true
   },
   "outputs": [
    {
     "data": {
      "image/png": "[encoded data removed]",
      "text/plain": [
       "<Figure size 864x144 with 1 Axes>"
      ]
     },
     "metadata": {
      "needs_background": "light"
     },
     "output_type": "display_data"
    }
   ],
   "source": [
    "fig, ax = plt.subplots(figsize=(12,2))\n",
    "\n",
    "sns.boxplot(x=data['fatalities'], ax=ax)\n",
    "ax.set_title(\"Frequency of Fatalities Per Event\")\n",
    "ax.set_xlabel('Fatality Count')\n",
    "ax.tick_params(labelsize=10);"
   ]
  },
  {
   "cell_type": "markdown",
   "metadata": {},
   "source": [
    "First, I use a bar chart to look at the frequency of fatality counts across the dataset. There are clearly a high number of events that involved no fatalities. However, from the first bar chart it's not entirely clear how frequently higher number of fatalities occured. A boxplot allows me to better understand the fatality count for some of the outliers in the dataset. There are approximately 7 events where the fatality count was over 10 people. Next steps of investigation might look at fatalities in the context of event type to understand if certain types of conflicts are more deadly."
   ]
  },
  {
   "cell_type": "markdown",
   "metadata": {},
   "source": [
    "### Location"
   ]
  },
  {
   "cell_type": "code",
   "execution_count": 122,
   "metadata": {},
   "outputs": [
    {
     "data": {
      "image/png": "[encoded data removed]",
      "text/plain": [
       "<Figure size 1224x360 with 1 Axes>"
      ]
     },
     "metadata": {
      "needs_background": "light"
     },
     "output_type": "display_data"
    }
   ],
   "source": [
    "fig, ax = plt.subplots(figsize=(17,5))\n",
    "\n",
    "sns.countplot(data['state'], color=base_color, ax=ax, order=data['state'].value_counts().index)\n",
    "ax.set_title('Frequency of Events Per State')\n",
    "ax.set_xlabel('State')\n",
    "ax.set_ylabel('Records')\n",
    "plt.xticks(rotation=35);"
   ]
  },
  {
   "cell_type": "markdown",
   "metadata": {},
   "source": [
    "This bar chart illustrates the frequency of events per state in Brazil. We see that the highest number of records in the dataset are coming from three bordering states: Rio de Janiero, Sāo Paulo (not counting the Federal District) and Minas Gerais. To have a more nuanced understanding of how conflict manifests itself in different parts of Brazil, next steps would look at the number of fatalities or specific event types per state. Since the data is available, it could also be useful to visualize the latitude and longitude coordinates of the event."
   ]
  },
  {
   "cell_type": "markdown",
   "metadata": {},
   "source": [
    "### Event Type"
   ]
  },
  {
   "cell_type": "code",
   "execution_count": 137,
   "metadata": {
    "scrolled": true
   },
   "outputs": [
    {
     "data": {
      "image/png": "[encoded data removed]",
      "text/plain": [
       "<Figure size 1080x288 with 1 Axes>"
      ]
     },
     "metadata": {
      "needs_background": "light"
     },
     "output_type": "display_data"
    }
   ],
   "source": [
    "fig, ax = plt.subplots(figsize=[15,4])\n",
    "\n",
    "sns.countplot(data['event_type'], color=base_color, ax=ax, order=data['event_type'].value_counts().index)\n",
    "ax.set_title('Frequency of Event Type')\n",
    "ax.set_xlabel('Event')\n",
    "ax.set_ylabel('Count');"
   ]
  },
  {
   "cell_type": "code",
   "execution_count": 135,
   "metadata": {
    "scrolled": true
   },
   "outputs": [
    {
     "data": {
      "image/png": "[encoded data removed]",
      "text/plain": [
       "<Figure size 864x288 with 1 Axes>"
      ]
     },
     "metadata": {
      "needs_background": "light"
     },
     "output_type": "display_data"
    }
   ],
   "source": [
    "fig, ax = plt.subplots(figsize=[12,4])\n",
    "\n",
    "sns.countplot(data['sub_event_type'], color=base_color, ax=ax, order=data['sub_event_type'].value_counts()[:10].index)\n",
    "ax.set_title('Top 10 Most Frequent Sub Events')\n",
    "ax.set_xlabel('Sub Event')\n",
    "ax.set_ylabel('Count')\n",
    "plt.xticks(rotation=50);"
   ]
  },
  {
   "cell_type": "markdown",
   "metadata": {},
   "source": [
    "I also use basic bar charts to understand the types of events and their frequency. It appears that battles and protests are the most common event type in this dataset. Within these event types, the conflicts are categorized into sub event types - for readability purposes I only display the first 10. Next steps of the investigation will look at fatality counts in the context of each event."
   ]
  },
  {
   "cell_type": "markdown",
   "metadata": {},
   "source": [
    "### Discuss the distribution(s) of your variable(s) of interest. Were there any unusual points? Did you need to perform any transformations?\n",
    "\n",
    "Most of the data I'm working with is qualitative and fortunately I did not need to perform any scale transformations. With respect to the fatalities feature, I was pleasantly surprised to see that most of the events in this dataset did not see a high number of deaths. However, there are several outliers (with high fatality counts) which warrant further investigation. \n",
    "\n",
    "### Of the features you investigated, were there any unusual distributions? Did you perform any operations on the data to tidy, adjust, or change the form of the data? If so, why did you do this?\n",
    "\n",
    "In order to investigate the main feature - fatalities - I had to convert the data type to an integer. I also needed to update the column names for some of the location data, in order to make it clearer. Finally, I dropped several columns that contained the same data in each row (ex: region). This likely happened because the data was extracted from a larger database of information."
   ]
  },
  {
   "cell_type": "markdown",
   "metadata": {},
   "source": [
    "## Bivariate Exploration\n",
    "\n",
    "> In this section, investigate relationships between pairs of variables in your\n",
    "data. Make sure the variables that you cover here have been introduced in some\n",
    "fashion in the previous section (univariate exploration)."
   ]
  },
  {
   "cell_type": "code",
   "execution_count": 126,
   "metadata": {},
   "outputs": [
    {
     "data": {
      "image/png": "[encoded data removed]",
      "text/plain": [
       "<Figure size 1152x648 with 1 Axes>"
      ]
     },
     "metadata": {
      "needs_background": "light"
     },
     "output_type": "display_data"
    }
   ],
   "source": [
    "plt.figure(figsize=[16,9])\n",
    "base_color = sns.color_palette()[0]\n",
    "plt.barh(data['state'], data['fatalities'], color=base_color);"
   ]
  },
  {
   "cell_type": "markdown",
   "metadata": {},
   "source": [
    "### Talk about some of the relationships you observed in this part of the investigation. How did the feature(s) of interest vary with other features in the dataset?\n",
    "\n",
    "> Your answer here!\n",
    "\n",
    "### Did you observe any interesting relationships between the other features (not the main feature(s) of interest)?\n",
    "\n",
    "> Your answer here!"
   ]
  },
  {
   "cell_type": "markdown",
   "metadata": {},
   "source": [
    "## Multivariate Exploration\n",
    "\n",
    "> Create plots of three or more variables to investigate your data even\n",
    "further. Make sure that your investigations are justified, and follow from\n",
    "your work in the previous sections."
   ]
  },
  {
   "cell_type": "code",
   "execution_count": null,
   "metadata": {},
   "outputs": [],
   "source": []
  },
  {
   "cell_type": "markdown",
   "metadata": {},
   "source": [
    "### Talk about some of the relationships you observed in this part of the investigation. Were there features that strengthened each other in terms of looking at your feature(s) of interest?\n",
    "\n",
    "> Your answer here!\n",
    "\n",
    "### Were there any interesting or surprising interactions between features?\n",
    "\n",
    "> Your answer here!"
   ]
  },
  {
   "cell_type": "markdown",
   "metadata": {},
   "source": [
    "> At the end of your report, make sure that you export the notebook as an\n",
    "html file from the `File > Download as... > HTML` menu. Make sure you keep\n",
    "track of where the exported file goes, so you can put it in the same folder\n",
    "as this notebook for project submission. Also, make sure you remove all of\n",
    "the quote-formatted guide notes like this one before you finish your report!"
   ]
  },
  {
   "cell_type": "code",
   "execution_count": null,
   "metadata": {},
   "outputs": [],
   "source": []
  }
 ],
 "metadata": {
  "kernelspec": {
   "display_name": "Python 3",
   "language": "python",
   "name": "python3"
  },
  "language_info": {
   "codemirror_mode": {
    "name": "ipython",
    "version": 3
   },
   "file_extension": ".py",
   "mimetype": "text/x-python",
   "name": "python",
   "nbconvert_exporter": "python",
   "pygments_lexer": "ipython3",
   "version": "3.7.6"
  },
  "toc": {
   "base_numbering": 1,
   "nav_menu": {},
   "number_sections": true,
   "sideBar": true,
   "skip_h1_title": false,
   "title_cell": "Table of Contents",
   "title_sidebar": "Contents",
   "toc_cell": false,
   "toc_position": {},
   "toc_section_display": true,
   "toc_window_display": false
  }
 },
 "nbformat": 4,
 "nbformat_minor": 2
}
